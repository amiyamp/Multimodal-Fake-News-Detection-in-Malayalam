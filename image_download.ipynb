{
 "cells": [
  {
   "cell_type": "code",
   "execution_count": 7,
   "id": "ba0be750",
   "metadata": {},
   "outputs": [],
   "source": [
    "import os\n",
    "import csv\n",
    "import requests\n",
    "import pandas as pd\n",
    "\n",
    "def download_images_from_csv(csv_path, output_folder):\n",
    "    # Read the CSV file into a pandas DataFrame\n",
    "    df = pd.read_csv(csv_path)\n",
    "    \n",
    "    # Create the output folder if it doesn't exist\n",
    "    os.makedirs(output_folder, exist_ok=True)\n",
    "    \n",
    "    # Download images and update the DataFrame\n",
    "    image_names = []\n",
    "    for index, row in df.iterrows():\n",
    "        image_url = row['Image Url']\n",
    "        if pd.notna(image_url) and isinstance(image_url, str) and image_url.startswith(('http://', 'https://')):\n",
    "            image_name = f\"image{index}.png\"\n",
    "            image_path = os.path.join(output_folder, image_name)\n",
    "            \n",
    "            response = requests.get(image_url)\n",
    "            if response.status_code == 200:\n",
    "                with open(image_path, 'wb') as image_file:\n",
    "                    image_file.write(response.content)\n",
    "                image_names.append(image_name)\n",
    "            else:\n",
    "                image_names.append(None)\n",
    "        else:\n",
    "            image_names.append(None)\n",
    "    \n",
    "    # Add a new column to the DataFrame with the image names\n",
    "    df['image_name'] = image_names\n",
    "    \n",
    "    # Save the updated DataFrame to the CSV file\n",
    "    df.to_csv(csv_path, index=False)\n",
    "\n",
    "if __name__ == \"__main__\":\n",
    "    csv_file_path = \"Multimodal__Malayalam.csv\"  # Replace with your CSV file path\n",
    "    output_folder_path = os.path.expanduser(\"~/output_images\")  # Save in your home directory\n",
    "    \n",
    "    download_images_from_csv(csv_file_path, output_folder_path)\n"
   ]
  },
  {
   "cell_type": "code",
   "execution_count": null,
   "id": "b8b5127b",
   "metadata": {},
   "outputs": [],
   "source": []
  }
 ],
 "metadata": {
  "kernelspec": {
   "display_name": "Python 3 (ipykernel)",
   "language": "python",
   "name": "python3"
  },
  "language_info": {
   "codemirror_mode": {
    "name": "ipython",
    "version": 3
   },
   "file_extension": ".py",
   "mimetype": "text/x-python",
   "name": "python",
   "nbconvert_exporter": "python",
   "pygments_lexer": "ipython3",
   "version": "3.10.7"
  }
 },
 "nbformat": 4,
 "nbformat_minor": 5
}
